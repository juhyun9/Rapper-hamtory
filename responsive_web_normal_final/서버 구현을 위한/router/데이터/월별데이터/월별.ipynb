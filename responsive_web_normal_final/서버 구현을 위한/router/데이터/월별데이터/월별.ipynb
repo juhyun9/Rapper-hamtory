{
 "cells": [
  {
   "cell_type": "code",
   "execution_count": 9,
   "metadata": {},
   "outputs": [
    {
     "ename": "ModuleNotFoundError",
     "evalue": "No module named 'sklearn'",
     "output_type": "error",
     "traceback": [
      "\u001b[1;31m---------------------------------------------------------------------------\u001b[0m",
      "\u001b[1;31mModuleNotFoundError\u001b[0m                       Traceback (most recent call last)",
      "\u001b[1;32m~\\AppData\\Local\\Temp/ipykernel_21708/870838295.py\u001b[0m in \u001b[0;36m<module>\u001b[1;34m\u001b[0m\n\u001b[0;32m      3\u001b[0m \u001b[1;32mimport\u001b[0m \u001b[0mnumpy\u001b[0m \u001b[1;32mas\u001b[0m \u001b[0mnp\u001b[0m\u001b[1;33m\u001b[0m\u001b[1;33m\u001b[0m\u001b[0m\n\u001b[0;32m      4\u001b[0m \u001b[1;32mimport\u001b[0m \u001b[0mmatplotlib\u001b[0m\u001b[1;33m.\u001b[0m\u001b[0mpyplot\u001b[0m \u001b[1;32mas\u001b[0m \u001b[0mplt\u001b[0m\u001b[1;33m\u001b[0m\u001b[1;33m\u001b[0m\u001b[0m\n\u001b[1;32m----> 5\u001b[1;33m \u001b[1;32mfrom\u001b[0m \u001b[0msklearn\u001b[0m\u001b[1;33m.\u001b[0m\u001b[0mneighbors\u001b[0m \u001b[1;32mimport\u001b[0m \u001b[0mKNeighborsClassifier\u001b[0m\u001b[1;33m\u001b[0m\u001b[1;33m\u001b[0m\u001b[0m\n\u001b[0m",
      "\u001b[1;31mModuleNotFoundError\u001b[0m: No module named 'sklearn'"
     ]
    }
   ],
   "source": [
    "import csv\n",
    "import pandas as pd\n",
    "import numpy as np\n",
    "import matplotlib.pyplot as plt"
   ]
  },
  {
   "cell_type": "code",
   "execution_count": 2,
   "metadata": {},
   "outputs": [],
   "source": [
    "Jan = open('C:/Users/User/Documents/GitHub/Rapper-hamtory/responsive_web_normal_final/서버 구현을 위한/router/데이터/월별데이터/1.csv',\n",
    "                  encoding='utf-8')\n",
    "Feb = open('C:/Users/User/Documents/GitHub/Rapper-hamtory/responsive_web_normal_final/서버 구현을 위한/router/데이터/월별데이터/2.csv',\n",
    "                  encoding='utf-8')\n",
    "Mar = open('C:/Users/User/Documents/GitHub/Rapper-hamtory/responsive_web_normal_final/서버 구현을 위한/router/데이터/월별데이터/3.csv',\n",
    "                  encoding='utf-8')\n",
    "Apr = open('C:/Users/User/Documents/GitHub/Rapper-hamtory/responsive_web_normal_final/서버 구현을 위한/router/데이터/월별데이터/4.csv',\n",
    "                  encoding='utf-8')\n",
    "May = open('C:/Users/User/Documents/GitHub/Rapper-hamtory/responsive_web_normal_final/서버 구현을 위한/router/데이터/월별데이터/5.csv',\n",
    "                  encoding='utf-8')\n",
    "Jun = open('C:/Users/User/Documents/GitHub/Rapper-hamtory/responsive_web_normal_final/서버 구현을 위한/router/데이터/월별데이터/6.csv',\n",
    "                  encoding='utf-8')\n",
    "Jul = open('C:/Users/User/Documents/GitHub/Rapper-hamtory/responsive_web_normal_final/서버 구현을 위한/router/데이터/월별데이터/7.csv',\n",
    "                  encoding='utf-8')\n",
    "Aug = open('C:/Users/User/Documents/GitHub/Rapper-hamtory/responsive_web_normal_final/서버 구현을 위한/router/데이터/월별데이터/8.csv',\n",
    "                  encoding='utf-8')\n",
    "Sep = open('C:/Users/User/Documents/GitHub/Rapper-hamtory/responsive_web_normal_final/서버 구현을 위한/router/데이터/월별데이터/9.csv',\n",
    "                  encoding='utf-8')\n",
    "Oct = open('C:/Users/User/Documents/GitHub/Rapper-hamtory/responsive_web_normal_final/서버 구현을 위한/router/데이터/월별데이터/11.csv',\n",
    "                  encoding='utf-8')\n",
    "Nov = open('C:/Users/User/Documents/GitHub/Rapper-hamtory/responsive_web_normal_final/서버 구현을 위한/router/데이터/월별데이터/10.csv',\n",
    "                  encoding='utf-8')\n",
    "Dec = open('C:/Users/User/Documents/GitHub/Rapper-hamtory/responsive_web_normal_final/서버 구현을 위한/router/데이터/월별데이터/12.csv',\n",
    "                  encoding='utf-8')"
   ]
  },
  {
   "cell_type": "code",
   "execution_count": 3,
   "metadata": {},
   "outputs": [],
   "source": [
    "csv_list=[]\n",
    "csv_list.append(Jan)\n",
    "csv_list.append(Feb)\n",
    "csv_list.append(Mar)\n",
    "csv_list.append(Apr)\n",
    "csv_list.append(May)\n",
    "csv_list.append(Jun)\n",
    "csv_list.append(Jul)\n",
    "csv_list.append(Aug)\n",
    "csv_list.append(Sep)\n",
    "csv_list.append(Oct)\n",
    "csv_list.append(Nov)\n",
    "csv_list.append(Dec)\n"
   ]
  },
  {
   "cell_type": "code",
   "execution_count": 4,
   "metadata": {},
   "outputs": [],
   "source": [
    "csv_list_=[]\n",
    "for i in csv_list:\n",
    "    f=csv.reader(i)\n",
    "    csv_list_.append(f)"
   ]
  },
  {
   "cell_type": "code",
   "execution_count": 7,
   "metadata": {},
   "outputs": [
    {
     "ename": "TypeError",
     "evalue": "__init__() got an unexpected keyword argument 'sep'",
     "output_type": "error",
     "traceback": [
      "\u001b[1;31m---------------------------------------------------------------------------\u001b[0m",
      "\u001b[1;31mTypeError\u001b[0m                                 Traceback (most recent call last)",
      "\u001b[1;32m~\\AppData\\Local\\Temp/ipykernel_21708/3439077417.py\u001b[0m in \u001b[0;36m<module>\u001b[1;34m\u001b[0m\n\u001b[1;32m----> 1\u001b[1;33m \u001b[0mAll_list\u001b[0m\u001b[1;33m=\u001b[0m\u001b[0mpd\u001b[0m\u001b[1;33m.\u001b[0m\u001b[0mDataFrame\u001b[0m\u001b[1;33m(\u001b[0m\u001b[0mcsv_list_\u001b[0m\u001b[1;33m,\u001b[0m\u001b[0msep\u001b[0m\u001b[1;33m=\u001b[0m\u001b[1;34m'\\t'\u001b[0m\u001b[1;33m)\u001b[0m\u001b[1;33m\u001b[0m\u001b[1;33m\u001b[0m\u001b[0m\n\u001b[0m\u001b[0;32m      2\u001b[0m \u001b[1;33m\u001b[0m\u001b[0m\n\u001b[0;32m      3\u001b[0m \u001b[0my2021\u001b[0m\u001b[1;33m=\u001b[0m\u001b[0mpd\u001b[0m\u001b[1;33m.\u001b[0m\u001b[0mconcat\u001b[0m\u001b[1;33m(\u001b[0m\u001b[1;33m[\u001b[0m\u001b[0mAll_list\u001b[0m\u001b[1;33m]\u001b[0m\u001b[1;33m)\u001b[0m\u001b[1;33m\u001b[0m\u001b[1;33m\u001b[0m\u001b[0m\n\u001b[0;32m      4\u001b[0m \u001b[0mprint\u001b[0m\u001b[1;33m(\u001b[0m\u001b[0my2021\u001b[0m\u001b[1;33m)\u001b[0m\u001b[1;33m\u001b[0m\u001b[1;33m\u001b[0m\u001b[0m\n",
      "\u001b[1;31mTypeError\u001b[0m: __init__() got an unexpected keyword argument 'sep'"
     ]
    }
   ],
   "source": [
    "for i in csv_list_:\n",
    "    clf = KNeighborsClassifier(n_neighbors=i)\n",
    "    All_list=pd.DataFrame(csv_list_,sep='\\t')\n",
    "\n",
    "y2021=pd.concat([All_list])\n",
    "print(y2021)"
   ]
  }
 ],
 "metadata": {
  "interpreter": {
   "hash": "81794d4967e6c3204c66dcd87b604927b115b27c00565d3d43f05ba2f3a2cb0d"
  },
  "kernelspec": {
   "display_name": "Python 3.9.1 64-bit",
   "language": "python",
   "name": "python3"
  },
  "language_info": {
   "codemirror_mode": {
    "name": "ipython",
    "version": 3
   },
   "file_extension": ".py",
   "mimetype": "text/x-python",
   "name": "python",
   "nbconvert_exporter": "python",
   "pygments_lexer": "ipython3",
   "version": "3.9.1"
  },
  "orig_nbformat": 4
 },
 "nbformat": 4,
 "nbformat_minor": 2
}
